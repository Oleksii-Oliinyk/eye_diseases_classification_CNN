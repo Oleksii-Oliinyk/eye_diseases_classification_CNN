{
 "cells": [
  {
   "cell_type": "code",
   "execution_count": 1,
   "metadata": {},
   "outputs": [],
   "source": [
    "from model import EyeDiseaseClassifierCNN"
   ]
  },
  {
   "cell_type": "code",
   "execution_count": 2,
   "metadata": {},
   "outputs": [],
   "source": [
    "import torch \n",
    "from torchvision import datasets, transforms\n",
    "from torch.utils.data import DataLoader, random_split\n",
    "import torch.nn as nn\n",
    "import torch.optim as optim\n",
    "import numpy as np\n",
    "import seaborn as sns\n",
    "import matplotlib.pyplot as plt \n",
    "import random\n",
    "\n",
    "from sklearn.metrics import confusion_matrix,classification_report"
   ]
  },
  {
   "cell_type": "code",
   "execution_count": 3,
   "metadata": {},
   "outputs": [],
   "source": [
    "import wandb"
   ]
  },
  {
   "cell_type": "code",
   "execution_count": 4,
   "metadata": {},
   "outputs": [
    {
     "name": "stderr",
     "output_type": "stream",
     "text": [
      "\u001b[34m\u001b[1mwandb\u001b[0m: Using wandb-core as the SDK backend.  Please refer to https://wandb.me/wandb-core for more information.\n",
      "\u001b[34m\u001b[1mwandb\u001b[0m: Currently logged in as: \u001b[33moleksii-oliinyk\u001b[0m (\u001b[33moleksii-oliinyk-lviv-polytechnic-national-university\u001b[0m) to \u001b[32mhttps://api.wandb.ai\u001b[0m. Use \u001b[1m`wandb login --relogin`\u001b[0m to force relogin\n"
     ]
    },
    {
     "data": {
      "text/html": [
       "Tracking run with wandb version 0.19.7"
      ],
      "text/plain": [
       "<IPython.core.display.HTML object>"
      ]
     },
     "metadata": {},
     "output_type": "display_data"
    },
    {
     "data": {
      "text/html": [
       "Run data is saved locally in <code>d:\\University\\Diploma\\classification_model\\wandb\\run-20250403_104809-0hb4xt58</code>"
      ],
      "text/plain": [
       "<IPython.core.display.HTML object>"
      ]
     },
     "metadata": {},
     "output_type": "display_data"
    },
    {
     "data": {
      "text/html": [
       "Syncing run <strong><a href='https://wandb.ai/oleksii-oliinyk-lviv-polytechnic-national-university/eye-disease-classifier/runs/0hb4xt58' target=\"_blank\">fiery-night-7</a></strong> to <a href='https://wandb.ai/oleksii-oliinyk-lviv-polytechnic-national-university/eye-disease-classifier' target=\"_blank\">Weights & Biases</a> (<a href='https://wandb.me/developer-guide' target=\"_blank\">docs</a>)<br>"
      ],
      "text/plain": [
       "<IPython.core.display.HTML object>"
      ]
     },
     "metadata": {},
     "output_type": "display_data"
    },
    {
     "data": {
      "text/html": [
       " View project at <a href='https://wandb.ai/oleksii-oliinyk-lviv-polytechnic-national-university/eye-disease-classifier' target=\"_blank\">https://wandb.ai/oleksii-oliinyk-lviv-polytechnic-national-university/eye-disease-classifier</a>"
      ],
      "text/plain": [
       "<IPython.core.display.HTML object>"
      ]
     },
     "metadata": {},
     "output_type": "display_data"
    },
    {
     "data": {
      "text/html": [
       " View run at <a href='https://wandb.ai/oleksii-oliinyk-lviv-polytechnic-national-university/eye-disease-classifier/runs/0hb4xt58' target=\"_blank\">https://wandb.ai/oleksii-oliinyk-lviv-polytechnic-national-university/eye-disease-classifier/runs/0hb4xt58</a>"
      ],
      "text/plain": [
       "<IPython.core.display.HTML object>"
      ]
     },
     "metadata": {},
     "output_type": "display_data"
    },
    {
     "data": {
      "text/html": [
       "<button onClick=\"this.nextSibling.style.display='block';this.style.display='none';\">Display W&B run</button><iframe src='https://wandb.ai/oleksii-oliinyk-lviv-polytechnic-national-university/eye-disease-classifier/runs/0hb4xt58?jupyter=true' style='border:none;width:100%;height:420px;display:none;'></iframe>"
      ],
      "text/plain": [
       "<wandb.sdk.wandb_run.Run at 0x2f4b3ddfd70>"
      ]
     },
     "execution_count": 4,
     "metadata": {},
     "output_type": "execute_result"
    }
   ],
   "source": [
    "wandb.init(\n",
    "    # set the wandb entity where your project will be logged (generally your team name)\n",
    "    entity=\"oleksii-oliinyk-lviv-polytechnic-national-university\",\n",
    "\n",
    "    # set the wandb project where this run will be logged\n",
    "    project=\"eye-disease-classifier\",\n",
    "\n",
    "    # track hyperparameters and run metadata\n",
    "    config={\n",
    "    \"learning_rate\": 0.00007,\n",
    "    \"architecture\": \"CNN\",\n",
    "    \"dataset\": \"custom-eye-disease-dataset\",\n",
    "    \"epochs\": 2,\n",
    "    }\n",
    ")"
   ]
  },
  {
   "cell_type": "code",
   "execution_count": 5,
   "metadata": {},
   "outputs": [],
   "source": [
    "transform = transforms.Compose([\n",
    "    transforms.Resize((512, 512)),\n",
    "    transforms.ToTensor(),\n",
    "    transforms.Normalize(mean=[0.5], std=[0.5])\n",
    "])"
   ]
  },
  {
   "cell_type": "code",
   "execution_count": 6,
   "metadata": {},
   "outputs": [],
   "source": [
    "dataset = datasets.ImageFolder(root=\"processing_dataset_phase_final/\", transform=transform)\n",
    "\n",
    "total_size = len(dataset)\n",
    "train_size = int(0.8 * total_size)\n",
    "val_size = int(0.1 * total_size)\n",
    "test_size = total_size - train_size - val_size\n",
    "\n",
    "train_dataset, val_dataset, test_dataset = random_split(dataset, [train_size, val_size, test_size])\n",
    "\n",
    "train_loader = DataLoader(train_dataset, batch_size=16, shuffle=True)\n",
    "val_loader = DataLoader(val_dataset, batch_size=16, shuffle=True)\n",
    "test_loader = DataLoader(test_dataset, batch_size=16, shuffle=False)\n"
   ]
  },
  {
   "cell_type": "code",
   "execution_count": 7,
   "metadata": {},
   "outputs": [
    {
     "data": {
      "text/plain": [
       "{'a_healthy_eye': 0,\n",
       " 'cataract': 1,\n",
       " 'dry_eye_syndrome': 2,\n",
       " 'exopthalmos': 3,\n",
       " 'jaundice': 4,\n",
       " 'pterygium': 5,\n",
       " 'stye': 6,\n",
       " 'subcon_hemorrage': 7}"
      ]
     },
     "execution_count": 7,
     "metadata": {},
     "output_type": "execute_result"
    }
   ],
   "source": [
    "dataset.class_to_idx"
   ]
  },
  {
   "cell_type": "code",
   "execution_count": 8,
   "metadata": {},
   "outputs": [],
   "source": [
    "device = torch.device(\"cuda\" if torch.cuda.is_available() else \"cpu\")"
   ]
  },
  {
   "cell_type": "code",
   "execution_count": 9,
   "metadata": {},
   "outputs": [
    {
     "data": {
      "text/plain": [
       "device(type='cuda')"
      ]
     },
     "execution_count": 9,
     "metadata": {},
     "output_type": "execute_result"
    }
   ],
   "source": [
    "device"
   ]
  },
  {
   "cell_type": "code",
   "execution_count": 10,
   "metadata": {},
   "outputs": [],
   "source": [
    "def model_train(model, optimizer, criterion, dataloader):\n",
    "    model.train()\n",
    "    actual = []\n",
    "    predicted = []\n",
    "    for batch in dataloader:\n",
    "        images, labels = batch\n",
    "        labels = labels.to(device)\n",
    "        images = images.to(device)\n",
    "        \n",
    "        preds = model(images) \n",
    "        loss = criterion(preds, labels)\n",
    "        \n",
    "        optimizer.zero_grad()\n",
    "        loss.backward()\n",
    "        optimizer.step()\n",
    "        \n",
    "        _, predicted_classes = torch.max(preds, 1)\n",
    "        \n",
    "        for label in labels.tolist(): actual.append(int(label))\n",
    "        for predicted_class in predicted_classes.tolist(): predicted.append(int(predicted_class))\n",
    "    \n",
    "    actual = np.array(actual) \n",
    "    predicted = np.array(predicted)\n",
    "    \n",
    "    return actual, predicted"
   ]
  },
  {
   "cell_type": "code",
   "execution_count": 11,
   "metadata": {},
   "outputs": [],
   "source": [
    "def model_eval(model,dataloader):\n",
    "    model.eval()\n",
    "    actual = []\n",
    "    predicted = []\n",
    "    with torch.no_grad():\n",
    "        for batch in dataloader:\n",
    "            images, labels = batch\n",
    "            \n",
    "            labels = labels.to(device)\n",
    "            images = images.to(device)\n",
    "            \n",
    "            preds = model(images)\n",
    "            #loss = criterion(preds, labels)\n",
    "            \n",
    "            _, predicted_classes = torch.max(preds, 1)\n",
    "            \n",
    "            for label in labels.tolist(): actual.append(int(label))\n",
    "            for predicted_class in predicted_classes.tolist(): predicted.append(int(predicted_class)) \n",
    "        \n",
    "    actual = np.array(actual) \n",
    "    predicted = np.array(predicted)\n",
    "    \n",
    "    return actual, predicted"
   ]
  },
  {
   "cell_type": "code",
   "execution_count": 12,
   "metadata": {},
   "outputs": [],
   "source": [
    "def create_confusion_matrix(actual,predicted, epoch):\n",
    "    \n",
    "    cm = confusion_matrix(actual,predicted)\n",
    "    \n",
    "    sns.heatmap(cm, \n",
    "            annot=True,\n",
    "            fmt='g', \n",
    "            xticklabels=['a_healthy_eye','cataract','dry_eye_syndrome','exopthalmos','jaundice','pterygium','stye','subcon_hemorrage'],\n",
    "            yticklabels=['a_healthy_eye','cataract','dry_eye_syndrome','exopthalmos','jaundice','pterygium','stye','subcon_hemorrage'])\n",
    "    plt.ylabel('Actual', fontsize=13)\n",
    "    plt.title(f'Eval Confusion Matrix - Epoch #{epoch+1}', fontsize=17, pad=20)\n",
    "    plt.gca().xaxis.set_label_position('top') \n",
    "    plt.xlabel('Prediction', fontsize=13)\n",
    "    plt.gca().xaxis.tick_top()\n",
    "\n",
    "    plt.gca().figure.subplots_adjust(bottom=0.2)\n",
    "    plt.gca().figure.text(0.5, 0.05, 'Prediction', ha='center', fontsize=13)\n",
    "    plt.show()"
   ]
  },
  {
   "cell_type": "code",
   "execution_count": 13,
   "metadata": {},
   "outputs": [],
   "source": [
    "with torch.no_grad():\n",
    "    torch.cuda.empty_cache()"
   ]
  },
  {
   "cell_type": "code",
   "execution_count": 14,
   "metadata": {},
   "outputs": [],
   "source": [
    "learning_rate = 0.00007\n",
    "\n",
    "model = EyeDiseaseClassifierCNN().to(device)\n",
    "criterion = nn.CrossEntropyLoss()\n",
    "optimizer = optim.Adam(model.parameters(), lr=learning_rate)"
   ]
  },
  {
   "cell_type": "code",
   "execution_count": 15,
   "metadata": {},
   "outputs": [],
   "source": [
    "f = open(\"../logs/classification/classifier_training_2.txt\", \"w\")\n"
   ]
  },
  {
   "cell_type": "code",
   "execution_count": 16,
   "metadata": {},
   "outputs": [
    {
     "name": "stdout",
     "output_type": "stream",
     "text": [
      "Epoch #1\n"
     ]
    },
    {
     "ename": "KeyboardInterrupt",
     "evalue": "",
     "output_type": "error",
     "traceback": [
      "\u001b[31m---------------------------------------------------------------------------\u001b[39m",
      "\u001b[31mKeyboardInterrupt\u001b[39m                         Traceback (most recent call last)",
      "\u001b[36mCell\u001b[39m\u001b[36m \u001b[39m\u001b[32mIn[16]\u001b[39m\u001b[32m, line 9\u001b[39m\n\u001b[32m      6\u001b[39m \u001b[38;5;28mprint\u001b[39m(epoch_message)\n\u001b[32m      7\u001b[39m f.write(epoch_message + \u001b[33m\"\u001b[39m\u001b[38;5;130;01m\\n\u001b[39;00m\u001b[33m\"\u001b[39m)\n\u001b[32m----> \u001b[39m\u001b[32m9\u001b[39m train_actual, train_predicted = \u001b[43mmodel_train\u001b[49m\u001b[43m(\u001b[49m\u001b[43mmodel\u001b[49m\u001b[43m,\u001b[49m\u001b[43m \u001b[49m\u001b[43moptimizer\u001b[49m\u001b[43m,\u001b[49m\u001b[43m \u001b[49m\u001b[43mcriterion\u001b[49m\u001b[43m,\u001b[49m\u001b[43m \u001b[49m\u001b[43mtrain_loader\u001b[49m\u001b[43m)\u001b[49m\n\u001b[32m     10\u001b[39m eval_actual, eval_predicted = model_eval(model, val_loader)\n\u001b[32m     12\u001b[39m train_report = classification_report(train_actual, train_predicted, output_dict=\u001b[38;5;28;01mTrue\u001b[39;00m)\n",
      "\u001b[36mCell\u001b[39m\u001b[36m \u001b[39m\u001b[32mIn[10]\u001b[39m\u001b[32m, line 19\u001b[39m, in \u001b[36mmodel_train\u001b[39m\u001b[34m(model, optimizer, criterion, dataloader)\u001b[39m\n\u001b[32m     15\u001b[39m     optimizer.step()\n\u001b[32m     17\u001b[39m     _, predicted_classes = torch.max(preds, \u001b[32m1\u001b[39m)\n\u001b[32m---> \u001b[39m\u001b[32m19\u001b[39m     \u001b[38;5;28;01mfor\u001b[39;00m label \u001b[38;5;129;01min\u001b[39;00m \u001b[43mlabels\u001b[49m\u001b[43m.\u001b[49m\u001b[43mtolist\u001b[49m\u001b[43m(\u001b[49m\u001b[43m)\u001b[49m: actual.append(\u001b[38;5;28mint\u001b[39m(label))\n\u001b[32m     20\u001b[39m     \u001b[38;5;28;01mfor\u001b[39;00m predicted_class \u001b[38;5;129;01min\u001b[39;00m predicted_classes.tolist(): predicted.append(\u001b[38;5;28mint\u001b[39m(predicted_class))\n\u001b[32m     22\u001b[39m actual = np.array(actual) \n",
      "\u001b[31mKeyboardInterrupt\u001b[39m: "
     ]
    }
   ],
   "source": [
    "num_epochs = 2\n",
    "\n",
    "for i in range(num_epochs):\n",
    "    \n",
    "    epoch_message = f\"Epoch #{i+1}\"\n",
    "    print(epoch_message)\n",
    "    f.write(epoch_message + \"\\n\")\n",
    "    \n",
    "    train_actual, train_predicted = model_train(model, optimizer, criterion, train_loader)\n",
    "    eval_actual, eval_predicted = model_eval(model, val_loader)\n",
    "    \n",
    "    train_report = classification_report(train_actual, train_predicted, output_dict=True)\n",
    "    train_report_message = \"Training: \\n\" + str(classification_report(train_actual, train_predicted, zero_division=0))\n",
    "    print(train_report_message)\n",
    "    f.write(train_report_message + \"\\n\")\n",
    "    \n",
    "    eval_report = classification_report(eval_actual, eval_predicted, output_dict=True)\n",
    "    eval_report_message = \"Evaluation: \\n\" + str(classification_report(eval_actual, eval_predicted, zero_division=0))\n",
    "    print(eval_report_message)\n",
    "    f.write(eval_report_message + \"\\n\")\n",
    "    \n",
    "    wandb.log({\n",
    "        \"Train/Precision\": train_report[\"macro avg\"]['precision'], \n",
    "        \"Train/Recall\": train_report[\"macro avg\"]['recall'],\n",
    "        \"Train/F1-Score\": train_report[\"macro avg\"]['f1-score'],\n",
    "        \"Train/Accuracy\": train_report[\"accuracy\"],\n",
    "        \n",
    "        \"Eval/Precision\": eval_report[\"macro avg\"]['precision'], \n",
    "        \"Eval/Recall\": eval_report[\"macro avg\"]['recall'],\n",
    "        \"Eval/F1-Score\": eval_report[\"macro avg\"]['f1-score'],\n",
    "        \"Eval/Accuracy\": eval_report[\"accuracy\"]\n",
    "    })\n",
    "    \n",
    "    create_confusion_matrix(eval_actual, eval_predicted, i)\n",
    "\n",
    "wandb.finish()   \n",
    "f.close() "
   ]
  }
 ],
 "metadata": {
  "kernelspec": {
   "display_name": "venv",
   "language": "python",
   "name": "python3"
  },
  "language_info": {
   "codemirror_mode": {
    "name": "ipython",
    "version": 3
   },
   "file_extension": ".py",
   "mimetype": "text/x-python",
   "name": "python",
   "nbconvert_exporter": "python",
   "pygments_lexer": "ipython3",
   "version": "3.12.5"
  }
 },
 "nbformat": 4,
 "nbformat_minor": 2
}
