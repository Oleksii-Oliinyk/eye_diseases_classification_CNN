{
 "cells": [
  {
   "cell_type": "code",
   "execution_count": 11,
   "metadata": {},
   "outputs": [],
   "source": [
    "from model import EyeDiseaseClassifierCNN"
   ]
  },
  {
   "cell_type": "code",
   "execution_count": 1,
   "metadata": {},
   "outputs": [],
   "source": [
    "import torch \n",
    "from torchvision import datasets, transforms\n",
    "from torch.utils.data import DataLoader, random_split\n",
    "import torch.nn as nn\n",
    "import torch.optim as optim\n",
    "import numpy as np\n",
    "\n",
    "from sklearn.metrics import confusion_matrix,classification_report"
   ]
  },
  {
   "cell_type": "code",
   "execution_count": 2,
   "metadata": {},
   "outputs": [],
   "source": [
    "transform = transforms.Compose([\n",
    "    transforms.Resize((512, 512)),\n",
    "    transforms.ToTensor(),\n",
    "    transforms.Normalize(mean=[0.5], std=[0.5])\n",
    "])"
   ]
  },
  {
   "cell_type": "code",
   "execution_count": 3,
   "metadata": {},
   "outputs": [],
   "source": [
    "dataset = datasets.ImageFolder(root=\"processing_dataset_phase_final/\", transform=transform)\n",
    "\n",
    "total_size = len(dataset)\n",
    "train_size = int(0.8 * total_size)\n",
    "val_size = int(0.1 * total_size)\n",
    "test_size = total_size - train_size - val_size\n",
    "\n",
    "train_dataset, val_dataset, test_dataset = random_split(dataset, [train_size, val_size, test_size])\n",
    "\n",
    "train_loader = DataLoader(train_dataset, batch_size=16, shuffle=True)\n",
    "val_loader = DataLoader(val_dataset, batch_size=16, shuffle=True)\n",
    "test_loader = DataLoader(test_dataset, batch_size=16, shuffle=False)\n"
   ]
  },
  {
   "cell_type": "code",
   "execution_count": 4,
   "metadata": {},
   "outputs": [
    {
     "data": {
      "text/plain": [
       "{'a_healthy_eye': 0,\n",
       " 'cataract': 1,\n",
       " 'dry_eye_syndrome': 2,\n",
       " 'exopthalmos': 3,\n",
       " 'jaundice': 4,\n",
       " 'pterygium': 5,\n",
       " 'stye': 6,\n",
       " 'subcon_hemorrage': 7}"
      ]
     },
     "execution_count": 4,
     "metadata": {},
     "output_type": "execute_result"
    }
   ],
   "source": [
    "dataset.class_to_idx"
   ]
  },
  {
   "cell_type": "code",
   "execution_count": 5,
   "metadata": {},
   "outputs": [],
   "source": [
    "device = torch.device(\"cuda\" if torch.cuda.is_available() else \"cpu\")"
   ]
  },
  {
   "cell_type": "code",
   "execution_count": 6,
   "metadata": {},
   "outputs": [
    {
     "data": {
      "text/plain": [
       "device(type='cuda')"
      ]
     },
     "execution_count": 6,
     "metadata": {},
     "output_type": "execute_result"
    }
   ],
   "source": [
    "device"
   ]
  },
  {
   "cell_type": "code",
   "execution_count": 7,
   "metadata": {},
   "outputs": [],
   "source": [
    "def model_train(model, optimizer, criterion, dataloader):\n",
    "    model.train()\n",
    "    actual = []\n",
    "    predicted = []\n",
    "    for batch in dataloader:\n",
    "        images, labels = batch\n",
    "        labels = labels.to(device)\n",
    "        images = images.to(device)\n",
    "        \n",
    "        preds = model(images) \n",
    "        loss = criterion(preds, labels)\n",
    "        \n",
    "        optimizer.zero_grad()\n",
    "        loss.backward()\n",
    "        optimizer.step()\n",
    "        \n",
    "        _, predicted_classes = torch.max(preds, 1)\n",
    "        \n",
    "        for label in labels.tolist(): actual.append(int(label))\n",
    "        for predicted_class in predicted_classes.tolist(): predicted.append(int(predicted_class))\n",
    "    \n",
    "    actual = np.array(actual) \n",
    "    predicted = np.array(predicted)\n",
    "    \n",
    "    return actual, predicted"
   ]
  },
  {
   "cell_type": "code",
   "execution_count": 8,
   "metadata": {},
   "outputs": [],
   "source": [
    "def model_eval(model,dataloader):\n",
    "    model.eval()\n",
    "    actual = []\n",
    "    predicted = []\n",
    "    with torch.no_grad():\n",
    "        for batch in dataloader:\n",
    "            images, labels = batch\n",
    "            \n",
    "            labels = labels.to(device)\n",
    "            images = images.to(device)\n",
    "            \n",
    "            preds = model(images)\n",
    "            #loss = criterion(preds, labels)\n",
    "            \n",
    "            _, predicted_classes = torch.max(preds, 1)\n",
    "            \n",
    "            for label in labels.tolist(): actual.append(int(label))\n",
    "            for predicted_class in predicted_classes.tolist(): predicted.append(int(predicted_class)) \n",
    "        \n",
    "    actual = np.array(actual) \n",
    "    predicted = np.array(predicted)\n",
    "    \n",
    "    return actual, predicted"
   ]
  },
  {
   "cell_type": "code",
   "execution_count": 12,
   "metadata": {},
   "outputs": [],
   "source": [
    "with torch.no_grad():\n",
    "    torch.cuda.empty_cache()"
   ]
  },
  {
   "cell_type": "code",
   "execution_count": 13,
   "metadata": {},
   "outputs": [],
   "source": [
    "learning_rate = 0.00007\n",
    "\n",
    "model = EyeDiseaseClassifierCNN().to(device)\n",
    "criterion = nn.CrossEntropyLoss()\n",
    "optimizer = optim.Adam(model.parameters(), lr=learning_rate)"
   ]
  },
  {
   "cell_type": "code",
   "execution_count": 14,
   "metadata": {},
   "outputs": [
    {
     "name": "stdout",
     "output_type": "stream",
     "text": [
      "Epoch #1\n",
      "Training: \n",
      "               precision    recall  f1-score   support\n",
      "\n",
      "           0       0.28      0.34      0.31       120\n",
      "           1       0.34      0.32      0.33       105\n",
      "           2       0.26      0.25      0.26        87\n",
      "           3       0.00      0.00      0.00        34\n",
      "           4       0.33      0.19      0.24        73\n",
      "           5       0.38      0.42      0.40       113\n",
      "           6       0.35      0.47      0.40       105\n",
      "           7       0.28      0.27      0.27        71\n",
      "\n",
      "    accuracy                           0.32       708\n",
      "   macro avg       0.28      0.28      0.28       708\n",
      "weighted avg       0.31      0.32      0.31       708\n",
      "\n",
      "Evaluation: \n",
      "               precision    recall  f1-score   support\n",
      "\n",
      "           0       0.73      0.62      0.67        13\n",
      "           1       0.00      0.00      0.00        16\n",
      "           2       0.18      0.33      0.24         6\n",
      "           3       0.00      0.00      0.00         4\n",
      "           4       1.00      0.10      0.18        10\n",
      "           5       0.83      0.77      0.80        13\n",
      "           6       0.38      0.88      0.54        17\n",
      "           7       0.50      0.78      0.61         9\n",
      "\n",
      "    accuracy                           0.49        88\n",
      "   macro avg       0.45      0.43      0.38        88\n",
      "weighted avg       0.48      0.49      0.42        88\n",
      "\n",
      "Epoch #2\n"
     ]
    },
    {
     "name": "stderr",
     "output_type": "stream",
     "text": [
      "d:\\Programs\\Python\\Lib\\site-packages\\sklearn\\metrics\\_classification.py:1565: UndefinedMetricWarning: Precision is ill-defined and being set to 0.0 in labels with no predicted samples. Use `zero_division` parameter to control this behavior.\n",
      "  _warn_prf(average, modifier, f\"{metric.capitalize()} is\", len(result))\n",
      "d:\\Programs\\Python\\Lib\\site-packages\\sklearn\\metrics\\_classification.py:1565: UndefinedMetricWarning: Precision is ill-defined and being set to 0.0 in labels with no predicted samples. Use `zero_division` parameter to control this behavior.\n",
      "  _warn_prf(average, modifier, f\"{metric.capitalize()} is\", len(result))\n",
      "d:\\Programs\\Python\\Lib\\site-packages\\sklearn\\metrics\\_classification.py:1565: UndefinedMetricWarning: Precision is ill-defined and being set to 0.0 in labels with no predicted samples. Use `zero_division` parameter to control this behavior.\n",
      "  _warn_prf(average, modifier, f\"{metric.capitalize()} is\", len(result))\n"
     ]
    },
    {
     "ename": "KeyboardInterrupt",
     "evalue": "",
     "output_type": "error",
     "traceback": [
      "\u001b[1;31m---------------------------------------------------------------------------\u001b[0m",
      "\u001b[1;31mKeyboardInterrupt\u001b[0m                         Traceback (most recent call last)",
      "Cell \u001b[1;32mIn[14], line 6\u001b[0m\n\u001b[0;32m      3\u001b[0m \u001b[38;5;28;01mfor\u001b[39;00m i \u001b[38;5;129;01min\u001b[39;00m \u001b[38;5;28mrange\u001b[39m(num_epochs):\n\u001b[0;32m      4\u001b[0m     \u001b[38;5;28mprint\u001b[39m(\u001b[38;5;124mf\u001b[39m\u001b[38;5;124m\"\u001b[39m\u001b[38;5;124mEpoch #\u001b[39m\u001b[38;5;132;01m{\u001b[39;00mi\u001b[38;5;241m+\u001b[39m\u001b[38;5;241m1\u001b[39m\u001b[38;5;132;01m}\u001b[39;00m\u001b[38;5;124m\"\u001b[39m)\n\u001b[1;32m----> 6\u001b[0m     train_actual, train_predicted \u001b[38;5;241m=\u001b[39m \u001b[43mmodel_train\u001b[49m\u001b[43m(\u001b[49m\u001b[43mmodel\u001b[49m\u001b[43m,\u001b[49m\u001b[43m \u001b[49m\u001b[43moptimizer\u001b[49m\u001b[43m,\u001b[49m\u001b[43m \u001b[49m\u001b[43mcriterion\u001b[49m\u001b[43m,\u001b[49m\u001b[43m \u001b[49m\u001b[43mtrain_loader\u001b[49m\u001b[43m)\u001b[49m\n\u001b[0;32m      7\u001b[0m     eval_actual, eval_predicted \u001b[38;5;241m=\u001b[39m model_eval(model, val_loader)\n\u001b[0;32m      9\u001b[0m     train_report \u001b[38;5;241m=\u001b[39m classification_report(train_actual, train_predicted, output_dict\u001b[38;5;241m=\u001b[39m\u001b[38;5;28;01mTrue\u001b[39;00m)\n",
      "Cell \u001b[1;32mIn[7], line 19\u001b[0m, in \u001b[0;36mmodel_train\u001b[1;34m(model, optimizer, criterion, dataloader)\u001b[0m\n\u001b[0;32m     15\u001b[0m     optimizer\u001b[38;5;241m.\u001b[39mstep()\n\u001b[0;32m     17\u001b[0m     _, predicted_classes \u001b[38;5;241m=\u001b[39m torch\u001b[38;5;241m.\u001b[39mmax(preds, \u001b[38;5;241m1\u001b[39m)\n\u001b[1;32m---> 19\u001b[0m     \u001b[38;5;28;01mfor\u001b[39;00m label \u001b[38;5;129;01min\u001b[39;00m \u001b[43mlabels\u001b[49m\u001b[38;5;241;43m.\u001b[39;49m\u001b[43mtolist\u001b[49m\u001b[43m(\u001b[49m\u001b[43m)\u001b[49m: actual\u001b[38;5;241m.\u001b[39mappend(\u001b[38;5;28mint\u001b[39m(label))\n\u001b[0;32m     20\u001b[0m     \u001b[38;5;28;01mfor\u001b[39;00m predicted_class \u001b[38;5;129;01min\u001b[39;00m predicted_classes\u001b[38;5;241m.\u001b[39mtolist(): predicted\u001b[38;5;241m.\u001b[39mappend(\u001b[38;5;28mint\u001b[39m(predicted_class))\n\u001b[0;32m     22\u001b[0m actual \u001b[38;5;241m=\u001b[39m np\u001b[38;5;241m.\u001b[39marray(actual) \n",
      "\u001b[1;31mKeyboardInterrupt\u001b[0m: "
     ]
    }
   ],
   "source": [
    "num_epochs = 5\n",
    "\n",
    "for i in range(num_epochs):\n",
    "    print(f\"Epoch #{i+1}\")\n",
    "    \n",
    "    train_actual, train_predicted = model_train(model, optimizer, criterion, train_loader)\n",
    "    eval_actual, eval_predicted = model_eval(model, val_loader)\n",
    "    \n",
    "    train_report = classification_report(train_actual, train_predicted, output_dict=True)\n",
    "    print(\"Training: \\n\", classification_report(train_actual, train_predicted, zero_division=0))\n",
    "    \n",
    "    eval_report = classification_report(eval_actual, eval_predicted, output_dict=True)\n",
    "    print(\"Evaluation: \\n\", classification_report(eval_actual, eval_predicted, zero_division=0))"
   ]
  }
 ],
 "metadata": {
  "kernelspec": {
   "display_name": "Python 3",
   "language": "python",
   "name": "python3"
  },
  "language_info": {
   "codemirror_mode": {
    "name": "ipython",
    "version": 3
   },
   "file_extension": ".py",
   "mimetype": "text/x-python",
   "name": "python",
   "nbconvert_exporter": "python",
   "pygments_lexer": "ipython3",
   "version": "3.12.5"
  }
 },
 "nbformat": 4,
 "nbformat_minor": 2
}
