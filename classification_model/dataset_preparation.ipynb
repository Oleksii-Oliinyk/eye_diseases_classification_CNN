{
 "cells": [
  {
   "cell_type": "code",
   "execution_count": 1,
   "metadata": {},
   "outputs": [],
   "source": [
    "import cv2\n",
    "import os\n",
    "import random\n",
    "import numpy as np"
   ]
  },
  {
   "cell_type": "code",
   "execution_count": 2,
   "metadata": {},
   "outputs": [],
   "source": [
    "def read_images(read_path):    \n",
    "    images = []\n",
    "    for filename in os.listdir(read_path):\n",
    "        if filename.endswith((\".png\", \".jpg\", \".jpeg\")):\n",
    "            img = cv2.imread(os.path.join(read_path, filename))\n",
    "        if img is not None:\n",
    "            images.append(img)\n",
    "    print(f\"Loaded {len(images)} images from {read_path}\")\n",
    "    return images"
   ]
  },
  {
   "cell_type": "code",
   "execution_count": 3,
   "metadata": {},
   "outputs": [],
   "source": [
    "def process_images(images): \n",
    "    processed_images = []\n",
    "    flipped_images = []\n",
    "    i = 0\n",
    "    for image in images: \n",
    "        i+=1\n",
    "        height, width, _ = image.shape\n",
    "        if height == width:\n",
    "            cropped_img = image\n",
    "        a = abs(height - width)\n",
    "        a1 = a // 2\n",
    "        a2 = a1 if a % 2 == 0 else a1 + 1\n",
    "        if height > width:\n",
    "            cropped_img = image[a1:height-a2, 0:width]\n",
    "        if height < width:\n",
    "            cropped_img = image[0:height, a1:width-a2]\n",
    "        \n",
    "        processed_img = cv2.resize(cropped_img, (512, 512), interpolation = cv2.INTER_AREA)\n",
    "        flipped_img = cv2.flip(processed_img, flipCode=1)\n",
    "        \n",
    "        processed_images.append(processed_img)\n",
    "        flipped_images.append(flipped_img)\n",
    "\n",
    "    return processed_images, flipped_images\n",
    "    "
   ]
  },
  {
   "cell_type": "code",
   "execution_count": 4,
   "metadata": {},
   "outputs": [],
   "source": [
    "def rotate_images(images):\n",
    "    rotated_images = []\n",
    "    for image in images:\n",
    "        (h, w) = image.shape[:2]\n",
    "        center = (w // 2, h // 2)\n",
    "\n",
    "        mean_color = image.mean(axis=(0, 1)).astype(np.uint8)\n",
    "\n",
    "        angle = round(random.uniform(-3, 3), 1)  \n",
    "        rotation_matrix = cv2.getRotationMatrix2D(center, angle, 1.0)\n",
    "\n",
    "        M = cv2.getRotationMatrix2D(center, angle, 1.0)\n",
    "\n",
    "        rotated_img = cv2.warpAffine(image, M, (w, h), borderValue=mean_color.tolist())\n",
    "        rotated_images.append(rotated_img)\n",
    "    \n",
    "    return rotated_images"
   ]
  },
  {
   "cell_type": "code",
   "execution_count": null,
   "metadata": {},
   "outputs": [],
   "source": [
    "def save_images(processed_images, flipped_images, rotated_images, save_path, name): \n",
    "    i = 0\n",
    "    for image in processed_images: \n",
    "        i += 1\n",
    "        filename = f\"{name}_{i}.png\"\n",
    "        cv2.imwrite(os.path.join(save_path, filename), image, [cv2.IMWRITE_PNG_COMPRESSION, 9])\n",
    "        print(f\"Photo {filename} saved to {save_path}\")\n",
    "    i = 0 \n",
    "    for flipped_image in flipped_images:\n",
    "        i += 1\n",
    "        filename = f\"{name}_{i}_flipped.png\"\n",
    "        cv2.imwrite(os.path.join(save_path, filename), flipped_image, [cv2.IMWRITE_PNG_COMPRESSION, 9])\n",
    "        print(f\"Photo {filename} saved to {save_path}\")\n",
    "    i = 0\n",
    "    for rotated_image in rotated_images:\n",
    "        i += 1\n",
    "        filename = f\"{name}_{i}_rotated.png\"\n",
    "        cv2.imwrite(os.path.join(save_path, filename), rotated_image, [cv2.IMWRITE_PNG_COMPRESSION, 9])\n",
    "        print(f\"Photo {filename} saved to {save_path}\")\n",
    "\n",
    "    print(\"All photos in folder were processed and saved!!!\")"
   ]
  },
  {
   "cell_type": "code",
   "execution_count": 6,
   "metadata": {},
   "outputs": [],
   "source": [
    "read_path_a_healthy_eye = \"processing_dataset_phase_2/a_healthy_eye\"\n",
    "read_path_cataract = \"processing_dataset_phase_2/cataract\"\n",
    "read_path_dry_eye_syndrome = \"processing_dataset_phase_2/dry_eye_syndrome\"\n",
    "read_path_exopthalmos = \"processing_dataset_phase_2/exopthalmos\"\n",
    "read_path_jaundice = \"processing_dataset_phase_2/jaundice\"\n",
    "read_path_pterygium = \"processing_dataset_phase_2/pterygium\"\n",
    "read_path_stye = \"processing_dataset_phase_2/stye\"\n",
    "read_path_subcon_hemorrage = \"processing_dataset_phase_2/subcon_hemorrage\""
   ]
  },
  {
   "cell_type": "code",
   "execution_count": 7,
   "metadata": {},
   "outputs": [
    {
     "name": "stdout",
     "output_type": "stream",
     "text": [
      "Loaded 239 images from processing_dataset_phase_2/a_healthy_eye\n"
     ]
    }
   ],
   "source": [
    "a_healthy_eye_images = read_images(read_path_a_healthy_eye)"
   ]
  },
  {
   "cell_type": "code",
   "execution_count": 8,
   "metadata": {},
   "outputs": [
    {
     "name": "stdout",
     "output_type": "stream",
     "text": [
      "Loaded 158 images from processing_dataset_phase_2/cataract\n",
      "Loaded 107 images from processing_dataset_phase_2/dry_eye_syndrome\n",
      "Loaded 44 images from processing_dataset_phase_2/exopthalmos\n",
      "Loaded 99 images from processing_dataset_phase_2/jaundice\n",
      "Loaded 145 images from processing_dataset_phase_2/pterygium\n",
      "Loaded 136 images from processing_dataset_phase_2/stye\n",
      "Loaded 87 images from processing_dataset_phase_2/subcon_hemorrage\n"
     ]
    }
   ],
   "source": [
    "\n",
    "cataract_images = read_images(read_path_cataract)\n",
    "dry_eye_syndrome_images = read_images(read_path_dry_eye_syndrome)\n",
    "exopthalmos_images = read_images(read_path_exopthalmos)\n",
    "jaundice_images = read_images(read_path_jaundice)\n",
    "pterygium_images = read_images(read_path_pterygium)\n",
    "stye_images = read_images(read_path_stye)\n",
    "subcon_hemorrage_images = read_images(read_path_subcon_hemorrage)\n"
   ]
  },
  {
   "cell_type": "code",
   "execution_count": 9,
   "metadata": {},
   "outputs": [],
   "source": [
    "num_of_select = 170\n",
    "\n",
    "random_cut_a_healthy_eye_images = random.sample(a_healthy_eye_images, num_of_select)"
   ]
  },
  {
   "cell_type": "code",
   "execution_count": 10,
   "metadata": {},
   "outputs": [],
   "source": [
    "save_path_a_healthy_eye = \"processing_dataset_phase_final/a_healthy_eye\"\n",
    "save_path_cataract = \"processing_dataset_phase_final/cataract\"\n",
    "save_path_dry_eye_syndrome = \"processing_dataset_phase_final/dry_eye_syndrome\"\n",
    "save_path_exopthalmos = \"processing_dataset_phase_final/exopthalmos\"\n",
    "save_path_jaundice = \"processing_dataset_phase_final/jaundice\"\n",
    "save_path_pterygium = \"processing_dataset_phase_final/pterygium\"\n",
    "save_path_stye = \"processing_dataset_phase_final/stye\"\n",
    "save_path_subcon_hemorrage = \"processing_dataset_phase_final/subcon_hemorrage\"\n",
    "\n",
    "os.makedirs(save_path_a_healthy_eye, exist_ok=True)\n",
    "os.makedirs(save_path_cataract, exist_ok=True)\n",
    "os.makedirs(save_path_dry_eye_syndrome, exist_ok=True)\n",
    "os.makedirs(save_path_exopthalmos, exist_ok=True)\n",
    "os.makedirs(save_path_jaundice, exist_ok=True)\n",
    "os.makedirs(save_path_pterygium, exist_ok=True)\n",
    "os.makedirs(save_path_stye, exist_ok=True)\n",
    "os.makedirs(save_path_subcon_hemorrage, exist_ok=True)\n"
   ]
  },
  {
   "cell_type": "code",
   "execution_count": 11,
   "metadata": {},
   "outputs": [],
   "source": [
    "processed_a_healthy_eye_images, flipped_a_healthy_eye_images = process_images(random_cut_a_healthy_eye_images)"
   ]
  },
  {
   "cell_type": "code",
   "execution_count": 12,
   "metadata": {},
   "outputs": [],
   "source": [
    "processed_cataract_images, flipped_cataract_images = process_images(cataract_images)\n",
    "processed_dry_eye_syndrome_images, flipped_dry_eye_syndrome_images = process_images(dry_eye_syndrome_images)\n",
    "processed_exopthalmos_images, flipped_exopthalmos_images = process_images(exopthalmos_images)\n",
    "processed_jaundice_images, flipped_jaundice_images = process_images(jaundice_images)\n",
    "processed_pterygium_images, flipped_pterygium_images = process_images(pterygium_images)\n",
    "processed_stye_images, flipped_stye_images = process_images(stye_images)\n",
    "processed_subcon_hemorrage_images, flipped_subcon_hemorrage_images = process_images(subcon_hemorrage_images)"
   ]
  },
  {
   "cell_type": "code",
   "execution_count": 13,
   "metadata": {},
   "outputs": [
    {
     "ename": "ValueError",
     "evalue": "Sample larger than population or is negative",
     "output_type": "error",
     "traceback": [
      "\u001b[1;31m---------------------------------------------------------------------------\u001b[0m",
      "\u001b[1;31mValueError\u001b[0m                                Traceback (most recent call last)",
      "Cell \u001b[1;32mIn[13], line 4\u001b[0m\n\u001b[0;32m      2\u001b[0m rotate_cut_cataract_images \u001b[38;5;241m=\u001b[39m random\u001b[38;5;241m.\u001b[39msample(cataract_images, \u001b[38;5;241m60\u001b[39m)\n\u001b[0;32m      3\u001b[0m rotate_cut_dry_eye_syndrome_images \u001b[38;5;241m=\u001b[39m random\u001b[38;5;241m.\u001b[39msample(dry_eye_syndrome_images, \u001b[38;5;241m60\u001b[39m)\n\u001b[1;32m----> 4\u001b[0m rotate_cut_exopthalmos_images \u001b[38;5;241m=\u001b[39m \u001b[43mrandom\u001b[49m\u001b[38;5;241;43m.\u001b[39;49m\u001b[43msample\u001b[49m\u001b[43m(\u001b[49m\u001b[43mexopthalmos_images\u001b[49m\u001b[43m,\u001b[49m\u001b[43m \u001b[49m\u001b[38;5;241;43m60\u001b[39;49m\u001b[43m)\u001b[49m\n\u001b[0;32m      5\u001b[0m rotate_cut_jaundice_images \u001b[38;5;241m=\u001b[39m random\u001b[38;5;241m.\u001b[39msample(jaundice_images, \u001b[38;5;241m60\u001b[39m)\n\u001b[0;32m      6\u001b[0m rotate_cut_pterygium_images \u001b[38;5;241m=\u001b[39m random\u001b[38;5;241m.\u001b[39msample(pterygium_images, \u001b[38;5;241m60\u001b[39m)\n",
      "File \u001b[1;32md:\\Programs\\Python\\Lib\\random.py:430\u001b[0m, in \u001b[0;36mRandom.sample\u001b[1;34m(self, population, k, counts)\u001b[0m\n\u001b[0;32m    428\u001b[0m randbelow \u001b[38;5;241m=\u001b[39m \u001b[38;5;28mself\u001b[39m\u001b[38;5;241m.\u001b[39m_randbelow\n\u001b[0;32m    429\u001b[0m \u001b[38;5;28;01mif\u001b[39;00m \u001b[38;5;129;01mnot\u001b[39;00m \u001b[38;5;241m0\u001b[39m \u001b[38;5;241m<\u001b[39m\u001b[38;5;241m=\u001b[39m k \u001b[38;5;241m<\u001b[39m\u001b[38;5;241m=\u001b[39m n:\n\u001b[1;32m--> 430\u001b[0m     \u001b[38;5;28;01mraise\u001b[39;00m \u001b[38;5;167;01mValueError\u001b[39;00m(\u001b[38;5;124m\"\u001b[39m\u001b[38;5;124mSample larger than population or is negative\u001b[39m\u001b[38;5;124m\"\u001b[39m)\n\u001b[0;32m    431\u001b[0m result \u001b[38;5;241m=\u001b[39m [\u001b[38;5;28;01mNone\u001b[39;00m] \u001b[38;5;241m*\u001b[39m k\n\u001b[0;32m    432\u001b[0m setsize \u001b[38;5;241m=\u001b[39m \u001b[38;5;241m21\u001b[39m        \u001b[38;5;66;03m# size of a small set minus size of an empty list\u001b[39;00m\n",
      "\u001b[1;31mValueError\u001b[0m: Sample larger than population or is negative"
     ]
    }
   ],
   "source": [
    "rotate_cut_a_healthy_eye_images = random.sample(random_cut_a_healthy_eye_images, 60)\n",
    "rotate_cut_cataract_images = random.sample(cataract_images, 60)\n",
    "rotate_cut_dry_eye_syndrome_images = random.sample(dry_eye_syndrome_images, 60)\n",
    "rotate_cut_exopthalmos_images = random.sample(exopthalmos_images, 60)\n",
    "rotate_cut_jaundice_images = random.sample(jaundice_images, 60)\n",
    "rotate_cut_pterygium_images = random.sample(pterygium_images, 60)\n",
    "rotate_cut_stye_images = random.sample(stye_images, 60)\n",
    "rotate_cut_subcon_hemorrage_images = random.sample(subcon_hemorrage_images, 60)\n"
   ]
  },
  {
   "cell_type": "code",
   "execution_count": null,
   "metadata": {},
   "outputs": [],
   "source": [
    "rotated_a_healthy_eye_images = rotate_images(rotate_cut_a_healthy_eye_images)\n",
    "rotated__cataract_images = rotate_images(rotate_cut_cataract_images)\n",
    "rotated_dry_eye_syndrome_images = rotate_images(rotate_cut_dry_eye_syndrome_images)\n",
    "rotated_exopthalmos_images = rotate_images(rotate_cut_exopthalmos_images)\n",
    "rotated_jaundice_images = rotate_images(rotate_cut_jaundice_images)\n",
    "rotated_pterygium_images = rotate_images(rotate_cut_pterygium_images)\n",
    "rotated_stye_images = rotate_images(rotate_cut_stye_images)\n",
    "rotated_subcon_hemorrage_images = rotate_images(rotate_cut_subcon_hemorrage_images)"
   ]
  },
  {
   "cell_type": "code",
   "execution_count": 16,
   "metadata": {},
   "outputs": [
    {
     "ename": "NameError",
     "evalue": "name 'rotated_a_healthy_eye_images' is not defined",
     "output_type": "error",
     "traceback": [
      "\u001b[1;31m---------------------------------------------------------------------------\u001b[0m",
      "\u001b[1;31mNameError\u001b[0m                                 Traceback (most recent call last)",
      "Cell \u001b[1;32mIn[16], line 1\u001b[0m\n\u001b[1;32m----> 1\u001b[0m save_images(processed_a_healthy_eye_images, flipped_a_healthy_eye_images, \u001b[43mrotated_a_healthy_eye_images\u001b[49m, save_path_a_healthy_eye, \u001b[38;5;124m\"\u001b[39m\u001b[38;5;124ma_healthy_eye\u001b[39m\u001b[38;5;124m\"\u001b[39m)\n\u001b[0;32m      2\u001b[0m \u001b[38;5;66;03m# save_images(processed_cataract_images, flipped_cataract_images, rotated__cataract_images, save_path_cataract, \"cataract\")\u001b[39;00m\n\u001b[0;32m      3\u001b[0m \u001b[38;5;66;03m# save_images(processed_dry_eye_syndrome_images, flipped_dry_eye_syndrome_images, rotated_dry_eye_syndrome_images, save_path_dry_eye_syndrome, \"dry_eye_syndrome\")\u001b[39;00m\n\u001b[0;32m      4\u001b[0m \u001b[38;5;66;03m# save_images(processed_exopthalmos_images, flipped_exopthalmos_images, rotated_exopthalmos_images, save_path_exopthalmos, \"exopthalmos\")\u001b[39;00m\n\u001b[1;32m   (...)\u001b[0m\n\u001b[0;32m      7\u001b[0m \u001b[38;5;66;03m# save_images(processed_stye_images, flipped_stye_images, rotated_stye_images, save_path_stye, \"stye\")\u001b[39;00m\n\u001b[0;32m      8\u001b[0m \u001b[38;5;66;03m# save_images(processed_subcon_hemorrage_images, flipped_subcon_hemorrage_images, rotated_subcon_hemorrage_images, save_path_subcon_hemorrage, \"subcon_hemorrage\")\u001b[39;00m\n",
      "\u001b[1;31mNameError\u001b[0m: name 'rotated_a_healthy_eye_images' is not defined"
     ]
    }
   ],
   "source": [
    "save_images(processed_a_healthy_eye_images, flipped_a_healthy_eye_images, rotated_a_healthy_eye_images, save_path_a_healthy_eye, \"a_healthy_eye\")\n",
    "# save_images(processed_cataract_images, flipped_cataract_images, rotated__cataract_images, save_path_cataract, \"cataract\")\n",
    "# save_images(processed_dry_eye_syndrome_images, flipped_dry_eye_syndrome_images, rotated_dry_eye_syndrome_images, save_path_dry_eye_syndrome, \"dry_eye_syndrome\")\n",
    "# save_images(processed_exopthalmos_images, flipped_exopthalmos_images, rotated_exopthalmos_images, save_path_exopthalmos, \"exopthalmos\")\n",
    "# save_images(processed_jaundice_images, flipped_jaundice_images,rotated_jaundice_images, save_path_jaundice, \"jaundice\")\n",
    "# save_images(processed_pterygium_images, flipped_pterygium_images, rotated_pterygium_images, save_path_pterygium, \"pterygium\")\n",
    "# save_images(processed_stye_images, flipped_stye_images, rotated_stye_images, save_path_stye, \"stye\")\n",
    "# save_images(processed_subcon_hemorrage_images, flipped_subcon_hemorrage_images, rotated_subcon_hemorrage_images, save_path_subcon_hemorrage, \"subcon_hemorrage\")"
   ]
  }
 ],
 "metadata": {
  "kernelspec": {
   "display_name": "Python 3",
   "language": "python",
   "name": "python3"
  },
  "language_info": {
   "codemirror_mode": {
    "name": "ipython",
    "version": 3
   },
   "file_extension": ".py",
   "mimetype": "text/x-python",
   "name": "python",
   "nbconvert_exporter": "python",
   "pygments_lexer": "ipython3",
   "version": "3.12.5"
  }
 },
 "nbformat": 4,
 "nbformat_minor": 2
}
