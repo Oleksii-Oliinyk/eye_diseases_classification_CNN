{
 "cells": [
  {
   "cell_type": "code",
   "execution_count": 1,
   "metadata": {},
   "outputs": [],
   "source": [
    "from PIL import Image"
   ]
  },
  {
   "cell_type": "code",
   "execution_count": 12,
   "metadata": {},
   "outputs": [],
   "source": [
    "img = Image.open(\"photo2.jpg\")"
   ]
  },
  {
   "cell_type": "code",
   "execution_count": 30,
   "metadata": {},
   "outputs": [],
   "source": [
    "# Step 1: Find the smaller dimension\n",
    "a = min(img.width, img.height)\n",
    "\n",
    "# Step 2: Calculate the crop box to get the central square\n",
    "left = (img.width - a) / 2\n",
    "top = (img.height - a) / 2\n",
    "right = (img.width + a) / 2\n",
    "bottom = (img.height + a) / 2\n",
    "\n",
    "# Step 3: Crop the center square\n",
    "cropped_img = img.crop((left, top, right, bottom))\n",
    "\n",
    "\n",
    "# Step 4: Resize to a fixed size (optional)\n",
    "final_img = cropped_img.resize((128, 128), Image.LANCZOS)\n",
    "\n",
    "gray_img = final_img.convert('L')\n",
    "gray_img.show()\n",
    "\n"
   ]
  },
  {
   "cell_type": "code",
   "execution_count": 33,
   "metadata": {},
   "outputs": [
    {
     "name": "stdout",
     "output_type": "stream",
     "text": [
      "(539, 719)\n",
      "<PIL.JpegImagePlugin.JpegImageFile image mode=RGB size=539x719 at 0x20FECF24BC0>\n"
     ]
    }
   ],
   "source": [
    "img.show()\n",
    "print(img.size)\n",
    "print(img)"
   ]
  }
 ],
 "metadata": {
  "kernelspec": {
   "display_name": "Python 3",
   "language": "python",
   "name": "python3"
  },
  "language_info": {
   "codemirror_mode": {
    "name": "ipython",
    "version": 3
   },
   "file_extension": ".py",
   "mimetype": "text/x-python",
   "name": "python",
   "nbconvert_exporter": "python",
   "pygments_lexer": "ipython3",
   "version": "3.12.8"
  }
 },
 "nbformat": 4,
 "nbformat_minor": 2
}
