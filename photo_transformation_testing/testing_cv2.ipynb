{
 "cells": [
  {
   "cell_type": "code",
   "execution_count": 5,
   "metadata": {},
   "outputs": [],
   "source": [
    "import cv2\n",
    "import os"
   ]
  },
  {
   "cell_type": "code",
   "execution_count": 6,
   "metadata": {},
   "outputs": [],
   "source": [
    "# cv2.imread function, in below method,\n",
    "img = cv2.imread(\"photo3.jpg\", cv2.IMREAD_COLOR)\n",
    "\n"
   ]
  },
  {
   "cell_type": "code",
   "execution_count": 8,
   "metadata": {},
   "outputs": [],
   "source": [
    "\n",
    "height, width, _ = img.shape\n",
    "if height == width:\n",
    "    cropped_img = img\n",
    "a = abs(height - width)\n",
    "a1 = a // 2\n",
    "a2 = a1 if a % 2 == 0 else a1 + 1\n",
    "if height > width:\n",
    "    cropped_img = img[a1:height-a2, 0:width]\n",
    "if height < width:\n",
    "    cropped_img = img[0:height, a1:width-a2]\n",
    "resized_img = cv2.resize(cropped_img, (512, 512))"
   ]
  },
  {
   "cell_type": "code",
   "execution_count": 10,
   "metadata": {},
   "outputs": [
    {
     "data": {
      "text/plain": [
       "(512, 512, 3)"
      ]
     },
     "execution_count": 10,
     "metadata": {},
     "output_type": "execute_result"
    }
   ],
   "source": [
    "resized_img.shape"
   ]
  },
  {
   "cell_type": "code",
   "execution_count": 11,
   "metadata": {},
   "outputs": [
    {
     "data": {
      "text/plain": [
       "-1"
      ]
     },
     "execution_count": 11,
     "metadata": {},
     "output_type": "execute_result"
    }
   ],
   "source": [
    "# Creating GUI window to display an image on screen\n",
    "# first Parameter is windows title (should be in string format)\n",
    "# Second Parameter is image array\n",
    "cv2.imshow(\"resized_img\", resized_img)\n",
    "\n",
    "# To hold the window on screen, we use cv2.waitKey method\n",
    "# Once it detected the close input, it will release the control\n",
    "# To the next line\n",
    "# First Parameter is for holding screen for specified milliseconds\n",
    "# It should be positive integer. If 0 pass an parameter, then it will\n",
    "# hold the screen until user close it.\n",
    "cv2.waitKey(0)"
   ]
  }
 ],
 "metadata": {
  "kernelspec": {
   "display_name": "Python 3",
   "language": "python",
   "name": "python3"
  },
  "language_info": {
   "codemirror_mode": {
    "name": "ipython",
    "version": 3
   },
   "file_extension": ".py",
   "mimetype": "text/x-python",
   "name": "python",
   "nbconvert_exporter": "python",
   "pygments_lexer": "ipython3",
   "version": "3.12.5"
  }
 },
 "nbformat": 4,
 "nbformat_minor": 2
}
